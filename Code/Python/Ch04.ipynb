{
 "cells": [
  {
   "cell_type": "markdown",
   "metadata": {},
   "source": [
    "# 第 4 章 网络的描述统计"
   ]
  },
  {
   "cell_type": "markdown",
   "metadata": {},
   "source": [
    "导入库"
   ]
  },
  {
   "cell_type": "code",
   "execution_count": 1,
   "metadata": {},
   "outputs": [],
   "source": [
    "import matplotlib.pyplot as plt\n",
    "import networkx as nx\n",
    "import pandas as pd\n",
    "\n",
    "from modules.tools import graph_info, map_color\n",
    "\n",
    "plt.rcParams['font.sans-serif'] = ['SimHei']"
   ]
  },
  {
   "cell_type": "markdown",
   "metadata": {},
   "source": [
    "网络密度"
   ]
  },
  {
   "cell_type": "code",
   "execution_count": 2,
   "metadata": {},
   "outputs": [
    {
     "name": "stdout",
     "output_type": "stream",
     "text": [
      "Graph with 4925 nodes and 10191 edges.\n",
      "Graph type:      undirected unweighted \n",
      "Node attributes: \n",
      "Edge attributes: \n",
      "Edge list:\n",
      "[ 0] A10014-0       -- A11813-0      \t[ 1] A10014-0       -- A18443-0      \n",
      "[ 2] A10014-0       -- A25933        \t[ 3] A10014-0       -- A26500-1      \n",
      "[ 4] A10014-0       -- A27463-58     \t[ 5] A10014-0       -- A27664-0      \n",
      "[ 6] A10014-0       -- A29195-1      \t[ 7] A10014-0       -- A37213-0      \n",
      "[ 8] A10014-0       -- A40785-0      \t[ 9] A10014-0       -- A41093-0      \n",
      "[10] A10014-0       -- A41419-0      \t[11] A10014-0       -- A49668-2      \n",
      "...\n"
     ]
    }
   ],
   "source": [
    "# 读取边数据\n",
    "edge_largest = pd.read_csv('../../Data/edge_largest.csv')\n",
    "edge_largest = nx.from_pandas_edgelist(edge_largest, source='source', target='target')\n",
    "graph_info(edge_largest)"
   ]
  },
  {
   "cell_type": "code",
   "execution_count": null,
   "metadata": {},
   "outputs": [],
   "source": []
  }
 ],
 "metadata": {
  "kernelspec": {
   "display_name": "base",
   "language": "python",
   "name": "python3"
  },
  "language_info": {
   "codemirror_mode": {
    "name": "ipython",
    "version": 3
   },
   "file_extension": ".py",
   "mimetype": "text/x-python",
   "name": "python",
   "nbconvert_exporter": "python",
   "pygments_lexer": "ipython3",
   "version": "3.11.9"
  }
 },
 "nbformat": 4,
 "nbformat_minor": 2
}
