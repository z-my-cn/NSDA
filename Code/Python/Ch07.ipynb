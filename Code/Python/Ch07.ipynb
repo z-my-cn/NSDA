{
 "cells": [
  {
   "cell_type": "markdown",
   "metadata": {},
   "source": [
    "# 第 7 章 链路预测"
   ]
  },
  {
   "cell_type": "markdown",
   "metadata": {},
   "source": [
    "## 导入库"
   ]
  },
  {
   "cell_type": "code",
   "execution_count": 1,
   "metadata": {},
   "outputs": [],
   "source": [
    "import itertools\n",
    "import matplotlib.pyplot as plt\n",
    "import networkx as nx\n",
    "import numpy as np\n",
    "import pandas as pd\n",
    "import seaborn as sns\n",
    "from sklearn import metrics\n",
    "\n",
    "from modules.tools import graph_info\n",
    "\n",
    "# 设置图形的显示风格和中文显示\n",
    "sns.set_theme(font='SimHei')"
   ]
  },
  {
   "cell_type": "markdown",
   "metadata": {},
   "source": [
    "## 自我中心网络"
   ]
  },
  {
   "cell_type": "code",
   "execution_count": 2,
   "metadata": {},
   "outputs": [
    {
     "name": "stdout",
     "output_type": "stream",
     "text": [
      "Graph with 192 nodes and 1431 edges.\n",
      "Graph type:      undirected unweighted \n",
      "Node attributes: name PolParty \n",
      "Edge attributes: \n",
      "Edge list:\n",
      "[ 0]  jeunesverts.org/bordeaux                                  --  bix.enix.org/                                            \n",
      "[ 1]  jeunesverts.org/bordeaux                                  --  dominiquevoynet.net/blog                                 \n",
      "[ 2]  bix.enix.org/                                             --  www.arnaudcaron.net/                                     \n",
      "[ 3]  bix.enix.org/                                             --  dominiquevoynet.net/blog                                 \n",
      "[ 4]  bix.enix.org/                                             --  blogs.lesverts.fr/                                       \n",
      "[ 5]  bix.enix.org/                                             --  emilien.net/                                             \n",
      "...\n"
     ]
    }
   ],
   "source": [
    "# 使用fblog数据\n",
    "g = nx.read_graphml('../../Data/fblog.graphml')\n",
    "graph_info(g)"
   ]
  },
  {
   "cell_type": "code",
   "execution_count": 3,
   "metadata": {},
   "outputs": [
    {
     "data": {
      "text/plain": [
       "NodeView(('n0', 'n1', 'n2', 'n3', 'n4', 'n5', 'n6', 'n7', 'n8', 'n9', 'n10', 'n11', 'n12', 'n13', 'n14', 'n15', 'n16', 'n17', 'n18', 'n19', 'n20', 'n21', 'n22', 'n23', 'n24', 'n25', 'n26', 'n27', 'n28', 'n29', 'n30', 'n31', 'n32', 'n33', 'n34', 'n35', 'n36', 'n37', 'n38', 'n39', 'n40', 'n41', 'n42', 'n43', 'n44', 'n45', 'n46', 'n47', 'n48', 'n49', 'n50', 'n51', 'n52', 'n53', 'n54', 'n55', 'n56', 'n57', 'n58', 'n59', 'n60', 'n61', 'n62', 'n63', 'n64', 'n65', 'n66', 'n67', 'n68', 'n69', 'n70', 'n71', 'n72', 'n73', 'n74', 'n75', 'n76', 'n77', 'n78', 'n79', 'n80', 'n81', 'n82', 'n83', 'n84', 'n85', 'n86', 'n87', 'n88', 'n89', 'n90', 'n91', 'n92', 'n93', 'n94', 'n95', 'n96', 'n97', 'n98', 'n99', 'n100', 'n101', 'n102', 'n103', 'n104', 'n105', 'n106', 'n107', 'n108', 'n109', 'n110', 'n111', 'n112', 'n113', 'n114', 'n115', 'n116', 'n117', 'n118', 'n119', 'n120', 'n121', 'n122', 'n123', 'n124', 'n125', 'n126', 'n127', 'n128', 'n129', 'n130', 'n131', 'n132', 'n133', 'n134', 'n135', 'n136', 'n137', 'n138', 'n139', 'n140', 'n141', 'n142', 'n143', 'n144', 'n145', 'n146', 'n147', 'n148', 'n149', 'n150', 'n151', 'n152', 'n153', 'n154', 'n155', 'n156', 'n157', 'n158', 'n159', 'n160', 'n161', 'n162', 'n163', 'n164', 'n165', 'n166', 'n167', 'n168', 'n169', 'n170', 'n171', 'n172', 'n173', 'n174', 'n175', 'n176', 'n177', 'n178', 'n179', 'n180', 'n181', 'n182', 'n183', 'n184', 'n185', 'n186', 'n187', 'n188', 'n189', 'n190', 'n191'))"
      ]
     },
     "execution_count": 3,
     "metadata": {},
     "output_type": "execute_result"
    }
   ],
   "source": [
    "g.nodes"
   ]
  },
  {
   "cell_type": "code",
   "execution_count": 4,
   "metadata": {},
   "outputs": [
    {
     "name": "stdout",
     "output_type": "stream",
     "text": [
      "节点n0: jeunesverts.org/bordeaux 的自我中心网络：\n",
      "Graph with 3 nodes and 3 edges.\n",
      "Graph type:      undirected unweighted \n",
      "Node attributes: name PolParty \n",
      "Edge attributes: \n",
      "Edge list:\n",
      "[0]  bix.enix.org/            --  jeunesverts.org/bordeaux\n",
      "[1]  bix.enix.org/            --  dominiquevoynet.net/blog\n",
      "[2]  jeunesverts.org/bordeaux --  dominiquevoynet.net/blog\n"
     ]
    }
   ],
   "source": [
    "# 查看节点的自我中心网络(包含自身)\n",
    "n0 = list(g.nodes)[0]\n",
    "ego0 = nx.ego_graph(g, n=n0, radius=1)\n",
    "print(f'节点n0:{nx.get_node_attributes(g, \"name\")[n0]} 的自我中心网络：')\n",
    "graph_info(ego0)"
   ]
  },
  {
   "cell_type": "code",
   "execution_count": 5,
   "metadata": {},
   "outputs": [
    {
     "name": "stdout",
     "output_type": "stream",
     "text": [
      "节点n2: www.arnaudcaron.net/ 的自我中心网络：\n",
      "Graph with 5 nodes and 10 edges.\n",
      "Graph type:      undirected unweighted \n",
      "Node attributes: name PolParty \n",
      "Edge attributes: \n",
      "Edge list:\n",
      "[0]  emilien.net/             --  bix.enix.org/           \n",
      "[1]  emilien.net/             --  www.arnaudcaron.net/    \n",
      "[2]  emilien.net/             --  dominiquevoynet.net/blog\n",
      "[3]  emilien.net/             --  blogs.lesverts.fr/      \n",
      "[4]  dominiquevoynet.net/blog --  bix.enix.org/           \n",
      "[5]  dominiquevoynet.net/blog --  www.arnaudcaron.net/    \n",
      "...\n"
     ]
    }
   ],
   "source": [
    "# 查看节点的自我中心网络(包含自身)\n",
    "n2 = list(g.nodes)[2]\n",
    "ego2 = nx.ego_graph(g, n=n2, radius=1)\n",
    "print(f'节点n2:{nx.get_node_attributes(g, \"name\")[n2]} 的自我中心网络：')\n",
    "graph_info(ego2)"
   ]
  },
  {
   "cell_type": "markdown",
   "metadata": {},
   "source": [
    "## 共同邻居 (Common Neighbors, CN)"
   ]
  },
  {
   "cell_type": "code",
   "execution_count": 6,
   "metadata": {},
   "outputs": [
    {
     "name": "stdout",
     "output_type": "stream",
     "text": [
      "节点对数量：18336\n"
     ]
    },
    {
     "data": {
      "text/plain": [
       "[('n0', 'n1'), ('n0', 'n2'), ('n0', 'n3'), ('n0', 'n4'), ('n0', 'n5')]"
      ]
     },
     "execution_count": 6,
     "metadata": {},
     "output_type": "execute_result"
    }
   ],
   "source": [
    "# 节点对列表\n",
    "node_pairs = list(itertools.combinations(g.nodes, 2))\n",
    "print(f'节点对数量：{len(node_pairs)}')\n",
    "node_pairs[:5]"
   ]
  },
  {
   "cell_type": "code",
   "execution_count": 7,
   "metadata": {},
   "outputs": [
    {
     "name": "stdout",
     "output_type": "stream",
     "text": [
      "节点 n0 和节点 n1 的共同邻居数量：1\n",
      "节点 n0 和节点 n2 的共同邻居数量：2\n",
      "节点 n0 和节点 n3 的共同邻居数量：1\n",
      "节点 n0 和节点 n4 的共同邻居数量：2\n",
      "节点 n0 和节点 n5 的共同邻居数量：2\n"
     ]
    }
   ],
   "source": [
    "# 计算节点对之间的共同邻居数量\n",
    "for n1, n2 in node_pairs[:5]:\n",
    "    cn = len(nx.common_neighbors(g, n1, n2))\n",
    "    print(f'节点 {n1} 和节点 {n2} 的共同邻居数量：{cn}')"
   ]
  },
  {
   "cell_type": "code",
   "execution_count": 8,
   "metadata": {},
   "outputs": [
    {
     "data": {
      "text/html": [
       "<div>\n",
       "<style scoped>\n",
       "    .dataframe tbody tr th:only-of-type {\n",
       "        vertical-align: middle;\n",
       "    }\n",
       "\n",
       "    .dataframe tbody tr th {\n",
       "        vertical-align: top;\n",
       "    }\n",
       "\n",
       "    .dataframe thead th {\n",
       "        text-align: right;\n",
       "    }\n",
       "</style>\n",
       "<table border=\"1\" class=\"dataframe\">\n",
       "  <thead>\n",
       "    <tr style=\"text-align: right;\">\n",
       "      <th></th>\n",
       "      <th>node1</th>\n",
       "      <th>node2</th>\n",
       "      <th>connected</th>\n",
       "      <th>cn</th>\n",
       "    </tr>\n",
       "  </thead>\n",
       "  <tbody>\n",
       "    <tr>\n",
       "      <th>0</th>\n",
       "      <td>n0</td>\n",
       "      <td>n1</td>\n",
       "      <td>True</td>\n",
       "      <td>1</td>\n",
       "    </tr>\n",
       "    <tr>\n",
       "      <th>1</th>\n",
       "      <td>n0</td>\n",
       "      <td>n2</td>\n",
       "      <td>False</td>\n",
       "      <td>2</td>\n",
       "    </tr>\n",
       "    <tr>\n",
       "      <th>2</th>\n",
       "      <td>n0</td>\n",
       "      <td>n3</td>\n",
       "      <td>True</td>\n",
       "      <td>1</td>\n",
       "    </tr>\n",
       "    <tr>\n",
       "      <th>3</th>\n",
       "      <td>n0</td>\n",
       "      <td>n4</td>\n",
       "      <td>False</td>\n",
       "      <td>2</td>\n",
       "    </tr>\n",
       "    <tr>\n",
       "      <th>4</th>\n",
       "      <td>n0</td>\n",
       "      <td>n5</td>\n",
       "      <td>False</td>\n",
       "      <td>2</td>\n",
       "    </tr>\n",
       "  </tbody>\n",
       "</table>\n",
       "</div>"
      ],
      "text/plain": [
       "  node1 node2  connected  cn\n",
       "0    n0    n1       True   1\n",
       "1    n0    n2      False   2\n",
       "2    n0    n3       True   1\n",
       "3    n0    n4      False   2\n",
       "4    n0    n5      False   2"
      ]
     },
     "execution_count": 8,
     "metadata": {},
     "output_type": "execute_result"
    }
   ],
   "source": [
    "# 共同邻居数量与节点是否相连的关系\n",
    "# result = pd.DataFrame(columns=['node1', 'node2', 'connected', 'cn'])\n",
    "result = pd.DataFrame(node_pairs, columns=['node1', 'node2'])\n",
    "result['connected'] = result.apply(lambda x: g.has_edge(x['node1'], x['node2']), axis=1)\n",
    "result['cn'] = result.apply(lambda x: len(nx.common_neighbors(g, x['node1'], x['node2'])), axis=1)\n",
    "# 查看数据\n",
    "result.head()"
   ]
  },
  {
   "cell_type": "code",
   "execution_count": 9,
   "metadata": {},
   "outputs": [
    {
     "data": {
      "image/png": "[encoded data removed]",
      "text/plain": [
       "<Figure size 1000x500 with 1 Axes>"
      ]
     },
     "metadata": {},
     "output_type": "display_data"
    }
   ],
   "source": [
    "# 设置画布\n",
    "plt.figure(figsize=(10, 5))\n",
    "# 宽度对应节点对数量\n",
    "width = result['connected'].value_counts(normalize=True)\n",
    "# 绘制箱线图\n",
    "sns.boxplot(x='connected', y='cn', data=result, width=width)\n",
    "# 设置标签和标题\n",
    "plt.xticks([False, True], ['不相连', '相连'])\n",
    "plt.xlabel('节点是否相连')\n",
    "plt.ylabel('共同邻居数量')\n",
    "plt.title('共同邻居数量与节点是否相连的关系')\n",
    "plt.show()"
   ]
  },
  {
   "cell_type": "markdown",
   "metadata": {},
   "source": [
    "## 雅可比系数 (Jaccard Coefficient, JC)"
   ]
  },
  {
   "cell_type": "code",
   "execution_count": 10,
   "metadata": {},
   "outputs": [
    {
     "name": "stdout",
     "output_type": "stream",
     "text": [
      "节点 n0 和节点 n1 的Jaccard系数：0.06\n",
      "节点 n0 和节点 n2 的Jaccard系数：0.50\n",
      "节点 n0 和节点 n3 的Jaccard系数：0.09\n",
      "节点 n0 和节点 n4 的Jaccard系数：0.14\n",
      "节点 n0 和节点 n5 的Jaccard系数：0.33\n"
     ]
    }
   ],
   "source": [
    "# 计算Jaccard系数\n",
    "for n1, n2 in node_pairs[:5]:\n",
    "    jc = list(nx.jaccard_coefficient(g, [(n1, n2)]))[0][2]\n",
    "    print(f'节点 {n1} 和节点 {n2} 的Jaccard系数：{jc:.2f}')"
   ]
  },
  {
   "cell_type": "code",
   "execution_count": 11,
   "metadata": {},
   "outputs": [
    {
     "data": {
      "text/html": [
       "<div>\n",
       "<style scoped>\n",
       "    .dataframe tbody tr th:only-of-type {\n",
       "        vertical-align: middle;\n",
       "    }\n",
       "\n",
       "    .dataframe tbody tr th {\n",
       "        vertical-align: top;\n",
       "    }\n",
       "\n",
       "    .dataframe thead th {\n",
       "        text-align: right;\n",
       "    }\n",
       "</style>\n",
       "<table border=\"1\" class=\"dataframe\">\n",
       "  <thead>\n",
       "    <tr style=\"text-align: right;\">\n",
       "      <th></th>\n",
       "      <th>node1</th>\n",
       "      <th>node2</th>\n",
       "      <th>connected</th>\n",
       "      <th>cn</th>\n",
       "      <th>jc</th>\n",
       "    </tr>\n",
       "  </thead>\n",
       "  <tbody>\n",
       "    <tr>\n",
       "      <th>0</th>\n",
       "      <td>n0</td>\n",
       "      <td>n1</td>\n",
       "      <td>True</td>\n",
       "      <td>1</td>\n",
       "      <td>0.058824</td>\n",
       "    </tr>\n",
       "    <tr>\n",
       "      <th>1</th>\n",
       "      <td>n0</td>\n",
       "      <td>n2</td>\n",
       "      <td>False</td>\n",
       "      <td>2</td>\n",
       "      <td>0.500000</td>\n",
       "    </tr>\n",
       "    <tr>\n",
       "      <th>2</th>\n",
       "      <td>n0</td>\n",
       "      <td>n3</td>\n",
       "      <td>True</td>\n",
       "      <td>1</td>\n",
       "      <td>0.090909</td>\n",
       "    </tr>\n",
       "    <tr>\n",
       "      <th>3</th>\n",
       "      <td>n0</td>\n",
       "      <td>n4</td>\n",
       "      <td>False</td>\n",
       "      <td>2</td>\n",
       "      <td>0.142857</td>\n",
       "    </tr>\n",
       "    <tr>\n",
       "      <th>4</th>\n",
       "      <td>n0</td>\n",
       "      <td>n5</td>\n",
       "      <td>False</td>\n",
       "      <td>2</td>\n",
       "      <td>0.333333</td>\n",
       "    </tr>\n",
       "  </tbody>\n",
       "</table>\n",
       "</div>"
      ],
      "text/plain": [
       "  node1 node2  connected  cn        jc\n",
       "0    n0    n1       True   1  0.058824\n",
       "1    n0    n2      False   2  0.500000\n",
       "2    n0    n3       True   1  0.090909\n",
       "3    n0    n4      False   2  0.142857\n",
       "4    n0    n5      False   2  0.333333"
      ]
     },
     "execution_count": 11,
     "metadata": {},
     "output_type": "execute_result"
    }
   ],
   "source": [
    "# 将结果添加到数据框中\n",
    "result['jc'] = result.apply(lambda x: list(nx.jaccard_coefficient(g, [(x['node1'], x['node2'])]))[0][2], axis=1)\n",
    "result.head()"
   ]
  },
  {
   "cell_type": "markdown",
   "metadata": {},
   "source": [
    "## Sorenson 指数 (Sorenson Index, SI)"
   ]
  },
  {
   "cell_type": "code",
   "execution_count": 12,
   "metadata": {},
   "outputs": [
    {
     "name": "stdout",
     "output_type": "stream",
     "text": [
      "节点 n0 和节点 n1 的Sorenson指数为 0.06\n",
      "节点 n0 和节点 n2 的Sorenson指数为 0.33\n",
      "节点 n0 和节点 n3 的Sorenson指数为 0.08\n",
      "节点 n0 和节点 n4 的Sorenson指数为 0.12\n",
      "节点 n0 和节点 n5 的Sorenson指数为 0.25\n"
     ]
    }
   ],
   "source": [
    "# 计算Sorenson指数\n",
    "def sorenson_index(G, u, v):\n",
    "    # 计算两个节点的共同邻居数量\n",
    "    cn = len(nx.common_neighbors(G, u, v))\n",
    "    # 计算两个节点的Sorenson指数\n",
    "    si = cn / (G.degree(u) + G.degree(v))\n",
    "    return si\n",
    "\n",
    "for u, v in node_pairs[:5]:\n",
    "    si = sorenson_index(g, u, v)\n",
    "    print(f'节点 {u} 和节点 {v} 的Sorenson指数为 {si:.2f}')"
   ]
  },
  {
   "cell_type": "code",
   "execution_count": 13,
   "metadata": {},
   "outputs": [
    {
     "data": {
      "text/html": [
       "<div>\n",
       "<style scoped>\n",
       "    .dataframe tbody tr th:only-of-type {\n",
       "        vertical-align: middle;\n",
       "    }\n",
       "\n",
       "    .dataframe tbody tr th {\n",
       "        vertical-align: top;\n",
       "    }\n",
       "\n",
       "    .dataframe thead th {\n",
       "        text-align: right;\n",
       "    }\n",
       "</style>\n",
       "<table border=\"1\" class=\"dataframe\">\n",
       "  <thead>\n",
       "    <tr style=\"text-align: right;\">\n",
       "      <th></th>\n",
       "      <th>node1</th>\n",
       "      <th>node2</th>\n",
       "      <th>connected</th>\n",
       "      <th>cn</th>\n",
       "      <th>jc</th>\n",
       "      <th>si</th>\n",
       "    </tr>\n",
       "  </thead>\n",
       "  <tbody>\n",
       "    <tr>\n",
       "      <th>0</th>\n",
       "      <td>n0</td>\n",
       "      <td>n1</td>\n",
       "      <td>True</td>\n",
       "      <td>1</td>\n",
       "      <td>0.058824</td>\n",
       "      <td>0.055556</td>\n",
       "    </tr>\n",
       "    <tr>\n",
       "      <th>1</th>\n",
       "      <td>n0</td>\n",
       "      <td>n2</td>\n",
       "      <td>False</td>\n",
       "      <td>2</td>\n",
       "      <td>0.500000</td>\n",
       "      <td>0.333333</td>\n",
       "    </tr>\n",
       "    <tr>\n",
       "      <th>2</th>\n",
       "      <td>n0</td>\n",
       "      <td>n3</td>\n",
       "      <td>True</td>\n",
       "      <td>1</td>\n",
       "      <td>0.090909</td>\n",
       "      <td>0.083333</td>\n",
       "    </tr>\n",
       "    <tr>\n",
       "      <th>3</th>\n",
       "      <td>n0</td>\n",
       "      <td>n4</td>\n",
       "      <td>False</td>\n",
       "      <td>2</td>\n",
       "      <td>0.142857</td>\n",
       "      <td>0.125000</td>\n",
       "    </tr>\n",
       "    <tr>\n",
       "      <th>4</th>\n",
       "      <td>n0</td>\n",
       "      <td>n5</td>\n",
       "      <td>False</td>\n",
       "      <td>2</td>\n",
       "      <td>0.333333</td>\n",
       "      <td>0.250000</td>\n",
       "    </tr>\n",
       "  </tbody>\n",
       "</table>\n",
       "</div>"
      ],
      "text/plain": [
       "  node1 node2  connected  cn        jc        si\n",
       "0    n0    n1       True   1  0.058824  0.055556\n",
       "1    n0    n2      False   2  0.500000  0.333333\n",
       "2    n0    n3       True   1  0.090909  0.083333\n",
       "3    n0    n4      False   2  0.142857  0.125000\n",
       "4    n0    n5      False   2  0.333333  0.250000"
      ]
     },
     "execution_count": 13,
     "metadata": {},
     "output_type": "execute_result"
    }
   ],
   "source": [
    "# 将结果写入数据框\n",
    "result['si'] = result.apply(lambda x: sorenson_index(g, x['node1'], x['node2']), axis=1)\n",
    "result.head()"
   ]
  },
  {
   "cell_type": "markdown",
   "metadata": {},
   "source": [
    "## Salton 余弦相似性 (Salton Cosine Similarity, SC)"
   ]
  },
  {
   "cell_type": "code",
   "execution_count": 14,
   "metadata": {},
   "outputs": [
    {
     "name": "stdout",
     "output_type": "stream",
     "text": [
      "节点 n0 和节点 n1 的Salton余弦相似性为 0.18\n",
      "节点 n0 和节点 n2 的Salton余弦相似性为 0.71\n",
      "节点 n0 和节点 n3 的Salton余弦相似性为 0.22\n",
      "节点 n0 和节点 n4 的Salton余弦相似性为 0.38\n",
      "节点 n0 和节点 n5 的Salton余弦相似性为 0.58\n"
     ]
    }
   ],
   "source": [
    "# 计算Salton余弦相似性\n",
    "def salton_cosine_similarity(G, u, v):\n",
    "    # 计算两个节点的共同邻居数量\n",
    "    cn = len(nx.common_neighbors(G, u, v))\n",
    "    # 计算两个节点的Salton余弦相似性\n",
    "    sc = cn / (G.degree(u) * G.degree(v))**0.5\n",
    "    return sc\n",
    "\n",
    "for u, v in node_pairs[:5]:\n",
    "    sc = salton_cosine_similarity(g, u, v)\n",
    "    print(f'节点 {u} 和节点 {v} 的Salton余弦相似性为 {sc:.2f}')"
   ]
  },
  {
   "cell_type": "code",
   "execution_count": 15,
   "metadata": {},
   "outputs": [
    {
     "data": {
      "text/html": [
       "<div>\n",
       "<style scoped>\n",
       "    .dataframe tbody tr th:only-of-type {\n",
       "        vertical-align: middle;\n",
       "    }\n",
       "\n",
       "    .dataframe tbody tr th {\n",
       "        vertical-align: top;\n",
       "    }\n",
       "\n",
       "    .dataframe thead th {\n",
       "        text-align: right;\n",
       "    }\n",
       "</style>\n",
       "<table border=\"1\" class=\"dataframe\">\n",
       "  <thead>\n",
       "    <tr style=\"text-align: right;\">\n",
       "      <th></th>\n",
       "      <th>node1</th>\n",
       "      <th>node2</th>\n",
       "      <th>connected</th>\n",
       "      <th>cn</th>\n",
       "      <th>jc</th>\n",
       "      <th>si</th>\n",
       "      <th>sc</th>\n",
       "    </tr>\n",
       "  </thead>\n",
       "  <tbody>\n",
       "    <tr>\n",
       "      <th>0</th>\n",
       "      <td>n0</td>\n",
       "      <td>n1</td>\n",
       "      <td>True</td>\n",
       "      <td>1</td>\n",
       "      <td>0.058824</td>\n",
       "      <td>0.055556</td>\n",
       "      <td>0.176777</td>\n",
       "    </tr>\n",
       "    <tr>\n",
       "      <th>1</th>\n",
       "      <td>n0</td>\n",
       "      <td>n2</td>\n",
       "      <td>False</td>\n",
       "      <td>2</td>\n",
       "      <td>0.500000</td>\n",
       "      <td>0.333333</td>\n",
       "      <td>0.707107</td>\n",
       "    </tr>\n",
       "    <tr>\n",
       "      <th>2</th>\n",
       "      <td>n0</td>\n",
       "      <td>n3</td>\n",
       "      <td>True</td>\n",
       "      <td>1</td>\n",
       "      <td>0.090909</td>\n",
       "      <td>0.083333</td>\n",
       "      <td>0.223607</td>\n",
       "    </tr>\n",
       "    <tr>\n",
       "      <th>3</th>\n",
       "      <td>n0</td>\n",
       "      <td>n4</td>\n",
       "      <td>False</td>\n",
       "      <td>2</td>\n",
       "      <td>0.142857</td>\n",
       "      <td>0.125000</td>\n",
       "      <td>0.377964</td>\n",
       "    </tr>\n",
       "    <tr>\n",
       "      <th>4</th>\n",
       "      <td>n0</td>\n",
       "      <td>n5</td>\n",
       "      <td>False</td>\n",
       "      <td>2</td>\n",
       "      <td>0.333333</td>\n",
       "      <td>0.250000</td>\n",
       "      <td>0.577350</td>\n",
       "    </tr>\n",
       "  </tbody>\n",
       "</table>\n",
       "</div>"
      ],
      "text/plain": [
       "  node1 node2  connected  cn        jc        si        sc\n",
       "0    n0    n1       True   1  0.058824  0.055556  0.176777\n",
       "1    n0    n2      False   2  0.500000  0.333333  0.707107\n",
       "2    n0    n3       True   1  0.090909  0.083333  0.223607\n",
       "3    n0    n4      False   2  0.142857  0.125000  0.377964\n",
       "4    n0    n5      False   2  0.333333  0.250000  0.577350"
      ]
     },
     "execution_count": 15,
     "metadata": {},
     "output_type": "execute_result"
    }
   ],
   "source": [
    "# 将结果写入数据框\n",
    "result['sc'] = result.apply(lambda x: salton_cosine_similarity(g, x['node1'], x['node2']), axis=1)\n",
    "result.head()"
   ]
  },
  {
   "cell_type": "markdown",
   "metadata": {},
   "source": [
    "## Leicht-Holme-Newman (LHN)"
   ]
  },
  {
   "cell_type": "code",
   "execution_count": 16,
   "metadata": {},
   "outputs": [
    {
     "name": "stdout",
     "output_type": "stream",
     "text": [
      "节点 n0 和节点 n1 的LHN指标为 0.03\n",
      "节点 n0 和节点 n2 的LHN指标为 0.25\n",
      "节点 n0 和节点 n3 的LHN指标为 0.05\n",
      "节点 n0 和节点 n4 的LHN指标为 0.07\n",
      "节点 n0 和节点 n5 的LHN指标为 0.17\n"
     ]
    }
   ],
   "source": [
    "# 计算LHN指标\n",
    "def leicht_holme_nerman(G, u, v):\n",
    "    # 计算两个节点的共同邻居数量\n",
    "    cn = len(nx.common_neighbors(G, u, v))\n",
    "    # 计算两个节点的LHN指标\n",
    "    lhn = cn / (G.degree(u) * G.degree(v))\n",
    "    return lhn\n",
    "\n",
    "for u, v in node_pairs[:5]:\n",
    "    lhn = leicht_holme_nerman(g, u, v)\n",
    "    print(f'节点 {u} 和节点 {v} 的LHN指标为 {lhn:.2f}')"
   ]
  },
  {
   "cell_type": "code",
   "execution_count": 17,
   "metadata": {},
   "outputs": [
    {
     "data": {
      "text/html": [
       "<div>\n",
       "<style scoped>\n",
       "    .dataframe tbody tr th:only-of-type {\n",
       "        vertical-align: middle;\n",
       "    }\n",
       "\n",
       "    .dataframe tbody tr th {\n",
       "        vertical-align: top;\n",
       "    }\n",
       "\n",
       "    .dataframe thead th {\n",
       "        text-align: right;\n",
       "    }\n",
       "</style>\n",
       "<table border=\"1\" class=\"dataframe\">\n",
       "  <thead>\n",
       "    <tr style=\"text-align: right;\">\n",
       "      <th></th>\n",
       "      <th>node1</th>\n",
       "      <th>node2</th>\n",
       "      <th>connected</th>\n",
       "      <th>cn</th>\n",
       "      <th>jc</th>\n",
       "      <th>si</th>\n",
       "      <th>sc</th>\n",
       "      <th>lhn</th>\n",
       "    </tr>\n",
       "  </thead>\n",
       "  <tbody>\n",
       "    <tr>\n",
       "      <th>0</th>\n",
       "      <td>n0</td>\n",
       "      <td>n1</td>\n",
       "      <td>True</td>\n",
       "      <td>1</td>\n",
       "      <td>0.058824</td>\n",
       "      <td>0.055556</td>\n",
       "      <td>0.176777</td>\n",
       "      <td>0.031250</td>\n",
       "    </tr>\n",
       "    <tr>\n",
       "      <th>1</th>\n",
       "      <td>n0</td>\n",
       "      <td>n2</td>\n",
       "      <td>False</td>\n",
       "      <td>2</td>\n",
       "      <td>0.500000</td>\n",
       "      <td>0.333333</td>\n",
       "      <td>0.707107</td>\n",
       "      <td>0.250000</td>\n",
       "    </tr>\n",
       "    <tr>\n",
       "      <th>2</th>\n",
       "      <td>n0</td>\n",
       "      <td>n3</td>\n",
       "      <td>True</td>\n",
       "      <td>1</td>\n",
       "      <td>0.090909</td>\n",
       "      <td>0.083333</td>\n",
       "      <td>0.223607</td>\n",
       "      <td>0.050000</td>\n",
       "    </tr>\n",
       "    <tr>\n",
       "      <th>3</th>\n",
       "      <td>n0</td>\n",
       "      <td>n4</td>\n",
       "      <td>False</td>\n",
       "      <td>2</td>\n",
       "      <td>0.142857</td>\n",
       "      <td>0.125000</td>\n",
       "      <td>0.377964</td>\n",
       "      <td>0.071429</td>\n",
       "    </tr>\n",
       "    <tr>\n",
       "      <th>4</th>\n",
       "      <td>n0</td>\n",
       "      <td>n5</td>\n",
       "      <td>False</td>\n",
       "      <td>2</td>\n",
       "      <td>0.333333</td>\n",
       "      <td>0.250000</td>\n",
       "      <td>0.577350</td>\n",
       "      <td>0.166667</td>\n",
       "    </tr>\n",
       "  </tbody>\n",
       "</table>\n",
       "</div>"
      ],
      "text/plain": [
       "  node1 node2  connected  cn        jc        si        sc       lhn\n",
       "0    n0    n1       True   1  0.058824  0.055556  0.176777  0.031250\n",
       "1    n0    n2      False   2  0.500000  0.333333  0.707107  0.250000\n",
       "2    n0    n3       True   1  0.090909  0.083333  0.223607  0.050000\n",
       "3    n0    n4      False   2  0.142857  0.125000  0.377964  0.071429\n",
       "4    n0    n5      False   2  0.333333  0.250000  0.577350  0.166667"
      ]
     },
     "execution_count": 17,
     "metadata": {},
     "output_type": "execute_result"
    }
   ],
   "source": [
    "# 将结果写入数据框\n",
    "result['lhn'] = result.apply(lambda x: leicht_holme_nerman(g, x['node1'], x['node2']), axis=1)\n",
    "result.head()"
   ]
  },
  {
   "cell_type": "markdown",
   "metadata": {},
   "source": [
    "## Hub Promoted (HP)"
   ]
  },
  {
   "cell_type": "code",
   "execution_count": 18,
   "metadata": {},
   "outputs": [
    {
     "name": "stdout",
     "output_type": "stream",
     "text": [
      "节点 n0 和节点 n1 的Hub Promoted指标为 0.50\n",
      "节点 n0 和节点 n2 的Hub Promoted指标为 1.00\n",
      "节点 n0 和节点 n3 的Hub Promoted指标为 0.50\n",
      "节点 n0 和节点 n4 的Hub Promoted指标为 1.00\n",
      "节点 n0 和节点 n5 的Hub Promoted指标为 1.00\n"
     ]
    }
   ],
   "source": [
    "# 计算Hub Promoted指标\n",
    "def hub_promoted(G, u, v):\n",
    "    # 计算两个节点的共同邻居数量\n",
    "    cn = len(nx.common_neighbors(G, u, v))\n",
    "    # 计算两个节点的Hub Promoted指标\n",
    "    hp = cn / min(G.degree(u), G.degree(v))\n",
    "    return hp\n",
    "\n",
    "for u, v in node_pairs[:5]:\n",
    "    hp = hub_promoted(g, u, v)\n",
    "    print(f'节点 {u} 和节点 {v} 的Hub Promoted指标为 {hp:.2f}')"
   ]
  },
  {
   "cell_type": "code",
   "execution_count": 19,
   "metadata": {},
   "outputs": [
    {
     "data": {
      "text/html": [
       "<div>\n",
       "<style scoped>\n",
       "    .dataframe tbody tr th:only-of-type {\n",
       "        vertical-align: middle;\n",
       "    }\n",
       "\n",
       "    .dataframe tbody tr th {\n",
       "        vertical-align: top;\n",
       "    }\n",
       "\n",
       "    .dataframe thead th {\n",
       "        text-align: right;\n",
       "    }\n",
       "</style>\n",
       "<table border=\"1\" class=\"dataframe\">\n",
       "  <thead>\n",
       "    <tr style=\"text-align: right;\">\n",
       "      <th></th>\n",
       "      <th>node1</th>\n",
       "      <th>node2</th>\n",
       "      <th>connected</th>\n",
       "      <th>cn</th>\n",
       "      <th>jc</th>\n",
       "      <th>si</th>\n",
       "      <th>sc</th>\n",
       "      <th>lhn</th>\n",
       "      <th>hp</th>\n",
       "    </tr>\n",
       "  </thead>\n",
       "  <tbody>\n",
       "    <tr>\n",
       "      <th>0</th>\n",
       "      <td>n0</td>\n",
       "      <td>n1</td>\n",
       "      <td>True</td>\n",
       "      <td>1</td>\n",
       "      <td>0.058824</td>\n",
       "      <td>0.055556</td>\n",
       "      <td>0.176777</td>\n",
       "      <td>0.031250</td>\n",
       "      <td>0.5</td>\n",
       "    </tr>\n",
       "    <tr>\n",
       "      <th>1</th>\n",
       "      <td>n0</td>\n",
       "      <td>n2</td>\n",
       "      <td>False</td>\n",
       "      <td>2</td>\n",
       "      <td>0.500000</td>\n",
       "      <td>0.333333</td>\n",
       "      <td>0.707107</td>\n",
       "      <td>0.250000</td>\n",
       "      <td>1.0</td>\n",
       "    </tr>\n",
       "    <tr>\n",
       "      <th>2</th>\n",
       "      <td>n0</td>\n",
       "      <td>n3</td>\n",
       "      <td>True</td>\n",
       "      <td>1</td>\n",
       "      <td>0.090909</td>\n",
       "      <td>0.083333</td>\n",
       "      <td>0.223607</td>\n",
       "      <td>0.050000</td>\n",
       "      <td>0.5</td>\n",
       "    </tr>\n",
       "    <tr>\n",
       "      <th>3</th>\n",
       "      <td>n0</td>\n",
       "      <td>n4</td>\n",
       "      <td>False</td>\n",
       "      <td>2</td>\n",
       "      <td>0.142857</td>\n",
       "      <td>0.125000</td>\n",
       "      <td>0.377964</td>\n",
       "      <td>0.071429</td>\n",
       "      <td>1.0</td>\n",
       "    </tr>\n",
       "    <tr>\n",
       "      <th>4</th>\n",
       "      <td>n0</td>\n",
       "      <td>n5</td>\n",
       "      <td>False</td>\n",
       "      <td>2</td>\n",
       "      <td>0.333333</td>\n",
       "      <td>0.250000</td>\n",
       "      <td>0.577350</td>\n",
       "      <td>0.166667</td>\n",
       "      <td>1.0</td>\n",
       "    </tr>\n",
       "  </tbody>\n",
       "</table>\n",
       "</div>"
      ],
      "text/plain": [
       "  node1 node2  connected  cn        jc        si        sc       lhn   hp\n",
       "0    n0    n1       True   1  0.058824  0.055556  0.176777  0.031250  0.5\n",
       "1    n0    n2      False   2  0.500000  0.333333  0.707107  0.250000  1.0\n",
       "2    n0    n3       True   1  0.090909  0.083333  0.223607  0.050000  0.5\n",
       "3    n0    n4      False   2  0.142857  0.125000  0.377964  0.071429  1.0\n",
       "4    n0    n5      False   2  0.333333  0.250000  0.577350  0.166667  1.0"
      ]
     },
     "execution_count": 19,
     "metadata": {},
     "output_type": "execute_result"
    }
   ],
   "source": [
    "# 将结果写入数据框\n",
    "result['hp'] = result.apply(lambda x: hub_promoted(g, x['node1'], x['node2']), axis=1)\n",
    "result.head()"
   ]
  },
  {
   "cell_type": "markdown",
   "metadata": {},
   "source": [
    "## Hub Depressed (HD)"
   ]
  },
  {
   "cell_type": "code",
   "execution_count": 20,
   "metadata": {},
   "outputs": [
    {
     "name": "stdout",
     "output_type": "stream",
     "text": [
      "节点 n0 和节点 n1 的Hub Depressed指标为 0.06\n",
      "节点 n0 和节点 n2 的Hub Depressed指标为 0.50\n",
      "节点 n0 和节点 n3 的Hub Depressed指标为 0.10\n",
      "节点 n0 和节点 n4 的Hub Depressed指标为 0.14\n",
      "节点 n0 和节点 n5 的Hub Depressed指标为 0.33\n"
     ]
    }
   ],
   "source": [
    "# 计算Hub Depressed指标\n",
    "def hub_depressed(G, u, v):\n",
    "    # 计算两个节点的共同邻居数量\n",
    "    cn = len(nx.common_neighbors(G, u, v))\n",
    "    # 计算两个节点的Hub Depressed指标\n",
    "    hd = cn / max(G.degree(u), G.degree(v))\n",
    "    return hd\n",
    "\n",
    "for u, v in node_pairs[:5]:\n",
    "    hd = hub_depressed(g, u, v)\n",
    "    print(f'节点 {u} 和节点 {v} 的Hub Depressed指标为 {hd:.2f}')"
   ]
  },
  {
   "cell_type": "code",
   "execution_count": 21,
   "metadata": {},
   "outputs": [
    {
     "data": {
      "text/html": [
       "<div>\n",
       "<style scoped>\n",
       "    .dataframe tbody tr th:only-of-type {\n",
       "        vertical-align: middle;\n",
       "    }\n",
       "\n",
       "    .dataframe tbody tr th {\n",
       "        vertical-align: top;\n",
       "    }\n",
       "\n",
       "    .dataframe thead th {\n",
       "        text-align: right;\n",
       "    }\n",
       "</style>\n",
       "<table border=\"1\" class=\"dataframe\">\n",
       "  <thead>\n",
       "    <tr style=\"text-align: right;\">\n",
       "      <th></th>\n",
       "      <th>node1</th>\n",
       "      <th>node2</th>\n",
       "      <th>connected</th>\n",
       "      <th>cn</th>\n",
       "      <th>jc</th>\n",
       "      <th>si</th>\n",
       "      <th>sc</th>\n",
       "      <th>lhn</th>\n",
       "      <th>hp</th>\n",
       "      <th>hd</th>\n",
       "    </tr>\n",
       "  </thead>\n",
       "  <tbody>\n",
       "    <tr>\n",
       "      <th>0</th>\n",
       "      <td>n0</td>\n",
       "      <td>n1</td>\n",
       "      <td>True</td>\n",
       "      <td>1</td>\n",
       "      <td>0.058824</td>\n",
       "      <td>0.055556</td>\n",
       "      <td>0.176777</td>\n",
       "      <td>0.031250</td>\n",
       "      <td>0.5</td>\n",
       "      <td>0.062500</td>\n",
       "    </tr>\n",
       "    <tr>\n",
       "      <th>1</th>\n",
       "      <td>n0</td>\n",
       "      <td>n2</td>\n",
       "      <td>False</td>\n",
       "      <td>2</td>\n",
       "      <td>0.500000</td>\n",
       "      <td>0.333333</td>\n",
       "      <td>0.707107</td>\n",
       "      <td>0.250000</td>\n",
       "      <td>1.0</td>\n",
       "      <td>0.500000</td>\n",
       "    </tr>\n",
       "    <tr>\n",
       "      <th>2</th>\n",
       "      <td>n0</td>\n",
       "      <td>n3</td>\n",
       "      <td>True</td>\n",
       "      <td>1</td>\n",
       "      <td>0.090909</td>\n",
       "      <td>0.083333</td>\n",
       "      <td>0.223607</td>\n",
       "      <td>0.050000</td>\n",
       "      <td>0.5</td>\n",
       "      <td>0.100000</td>\n",
       "    </tr>\n",
       "    <tr>\n",
       "      <th>3</th>\n",
       "      <td>n0</td>\n",
       "      <td>n4</td>\n",
       "      <td>False</td>\n",
       "      <td>2</td>\n",
       "      <td>0.142857</td>\n",
       "      <td>0.125000</td>\n",
       "      <td>0.377964</td>\n",
       "      <td>0.071429</td>\n",
       "      <td>1.0</td>\n",
       "      <td>0.142857</td>\n",
       "    </tr>\n",
       "    <tr>\n",
       "      <th>4</th>\n",
       "      <td>n0</td>\n",
       "      <td>n5</td>\n",
       "      <td>False</td>\n",
       "      <td>2</td>\n",
       "      <td>0.333333</td>\n",
       "      <td>0.250000</td>\n",
       "      <td>0.577350</td>\n",
       "      <td>0.166667</td>\n",
       "      <td>1.0</td>\n",
       "      <td>0.333333</td>\n",
       "    </tr>\n",
       "  </tbody>\n",
       "</table>\n",
       "</div>"
      ],
      "text/plain": [
       "  node1 node2  connected  cn        jc        si        sc       lhn   hp  \\\n",
       "0    n0    n1       True   1  0.058824  0.055556  0.176777  0.031250  0.5   \n",
       "1    n0    n2      False   2  0.500000  0.333333  0.707107  0.250000  1.0   \n",
       "2    n0    n3       True   1  0.090909  0.083333  0.223607  0.050000  0.5   \n",
       "3    n0    n4      False   2  0.142857  0.125000  0.377964  0.071429  1.0   \n",
       "4    n0    n5      False   2  0.333333  0.250000  0.577350  0.166667  1.0   \n",
       "\n",
       "         hd  \n",
       "0  0.062500  \n",
       "1  0.500000  \n",
       "2  0.100000  \n",
       "3  0.142857  \n",
       "4  0.333333  "
      ]
     },
     "execution_count": 21,
     "metadata": {},
     "output_type": "execute_result"
    }
   ],
   "source": [
    "# 将结果写入数据框\n",
    "result['hd'] = result.apply(lambda x: hub_depressed(g, x['node1'], x['node2']), axis=1)\n",
    "result.head()"
   ]
  },
  {
   "cell_type": "markdown",
   "metadata": {},
   "source": [
    "## Parameter-Dependent (PD)"
   ]
  },
  {
   "cell_type": "code",
   "execution_count": 22,
   "metadata": {},
   "outputs": [
    {
     "name": "stdout",
     "output_type": "stream",
     "text": [
      "节点对：('n0', 'n1')\n",
      "λ=0.0 时，Parameter-Dependent指标为 1.00\n",
      "λ=0.5 时，Parameter-Dependent指标为 0.18\n",
      "λ=1.0 时，Parameter-Dependent指标为 0.03\n",
      "共同邻居数量：1.00，Salton余弦相似性：0.18，LHN指标：0.03\n"
     ]
    }
   ],
   "source": [
    "# 计算Parameter-Dependent指标\n",
    "def parameter_dependent(G, u, v, lambda_=0.5):\n",
    "    # 计算两个节点的共同邻居数量\n",
    "    cn = len(nx.common_neighbors(G, u, v))\n",
    "    # 计算两个节点的Parameter-Dependent指标\n",
    "    pd = cn / np.power(G.degree(u) * G.degree(v), lambda_)\n",
    "    return pd\n",
    "\n",
    "node_pair = node_pairs[0]\n",
    "print(f'节点对：{node_pair}')\n",
    "# 设置不同的λ值\n",
    "lambdas = [0, 0.5, 1]\n",
    "for lambda_ in lambdas:\n",
    "    pd = parameter_dependent(g, node_pair[0], node_pair[1], lambda_)\n",
    "    print(f'λ={lambda_:.1f} 时，Parameter-Dependent指标为 {pd:.2f}')\n",
    "    \n",
    "# 其结果分别退化为共同邻居数量、Salton余弦相似性和LHN指标\n",
    "cn = len(nx.common_neighbors(g, node_pair[0], node_pair[1]))\n",
    "sc = salton_cosine_similarity(g, node_pair[0], node_pair[1])\n",
    "lhn = leicht_holme_nerman(g, node_pair[0], node_pair[1])\n",
    "print(f'共同邻居数量：{cn:.2f}，Salton余弦相似性：{sc:.2f}，LHN指标：{lhn:.2f}')"
   ]
  },
  {
   "cell_type": "markdown",
   "metadata": {},
   "source": [
    "## Preferential Attachment (PA)"
   ]
  },
  {
   "cell_type": "code",
   "execution_count": 23,
   "metadata": {},
   "outputs": [
    {
     "name": "stdout",
     "output_type": "stream",
     "text": [
      "节点 n0 和节点 n1 的Preferential Attachment指标为 32.00\n",
      "节点 n0 和节点 n2 的Preferential Attachment指标为 8.00\n",
      "节点 n0 和节点 n3 的Preferential Attachment指标为 20.00\n",
      "节点 n0 和节点 n4 的Preferential Attachment指标为 28.00\n",
      "节点 n0 和节点 n5 的Preferential Attachment指标为 12.00\n"
     ]
    }
   ],
   "source": [
    "# 计算Preferential Attachment指标\n",
    "def preferential_attachment(G, u, v):\n",
    "    # 计算两个节点的Preferential Attachment指标\n",
    "    pa = G.degree(u) * G.degree(v)\n",
    "    return pa\n",
    "\n",
    "for u, v in node_pairs[:5]:\n",
    "    pa = preferential_attachment(g, u, v)\n",
    "    print(f'节点 {u} 和节点 {v} 的Preferential Attachment指标为 {pa:.2f}')"
   ]
  },
  {
   "cell_type": "code",
   "execution_count": 24,
   "metadata": {},
   "outputs": [
    {
     "data": {
      "text/html": [
       "<div>\n",
       "<style scoped>\n",
       "    .dataframe tbody tr th:only-of-type {\n",
       "        vertical-align: middle;\n",
       "    }\n",
       "\n",
       "    .dataframe tbody tr th {\n",
       "        vertical-align: top;\n",
       "    }\n",
       "\n",
       "    .dataframe thead th {\n",
       "        text-align: right;\n",
       "    }\n",
       "</style>\n",
       "<table border=\"1\" class=\"dataframe\">\n",
       "  <thead>\n",
       "    <tr style=\"text-align: right;\">\n",
       "      <th></th>\n",
       "      <th>node1</th>\n",
       "      <th>node2</th>\n",
       "      <th>connected</th>\n",
       "      <th>cn</th>\n",
       "      <th>jc</th>\n",
       "      <th>si</th>\n",
       "      <th>sc</th>\n",
       "      <th>lhn</th>\n",
       "      <th>hp</th>\n",
       "      <th>hd</th>\n",
       "      <th>pa</th>\n",
       "    </tr>\n",
       "  </thead>\n",
       "  <tbody>\n",
       "    <tr>\n",
       "      <th>0</th>\n",
       "      <td>n0</td>\n",
       "      <td>n1</td>\n",
       "      <td>True</td>\n",
       "      <td>1</td>\n",
       "      <td>0.058824</td>\n",
       "      <td>0.055556</td>\n",
       "      <td>0.176777</td>\n",
       "      <td>0.031250</td>\n",
       "      <td>0.5</td>\n",
       "      <td>0.062500</td>\n",
       "      <td>32</td>\n",
       "    </tr>\n",
       "    <tr>\n",
       "      <th>1</th>\n",
       "      <td>n0</td>\n",
       "      <td>n2</td>\n",
       "      <td>False</td>\n",
       "      <td>2</td>\n",
       "      <td>0.500000</td>\n",
       "      <td>0.333333</td>\n",
       "      <td>0.707107</td>\n",
       "      <td>0.250000</td>\n",
       "      <td>1.0</td>\n",
       "      <td>0.500000</td>\n",
       "      <td>8</td>\n",
       "    </tr>\n",
       "    <tr>\n",
       "      <th>2</th>\n",
       "      <td>n0</td>\n",
       "      <td>n3</td>\n",
       "      <td>True</td>\n",
       "      <td>1</td>\n",
       "      <td>0.090909</td>\n",
       "      <td>0.083333</td>\n",
       "      <td>0.223607</td>\n",
       "      <td>0.050000</td>\n",
       "      <td>0.5</td>\n",
       "      <td>0.100000</td>\n",
       "      <td>20</td>\n",
       "    </tr>\n",
       "    <tr>\n",
       "      <th>3</th>\n",
       "      <td>n0</td>\n",
       "      <td>n4</td>\n",
       "      <td>False</td>\n",
       "      <td>2</td>\n",
       "      <td>0.142857</td>\n",
       "      <td>0.125000</td>\n",
       "      <td>0.377964</td>\n",
       "      <td>0.071429</td>\n",
       "      <td>1.0</td>\n",
       "      <td>0.142857</td>\n",
       "      <td>28</td>\n",
       "    </tr>\n",
       "    <tr>\n",
       "      <th>4</th>\n",
       "      <td>n0</td>\n",
       "      <td>n5</td>\n",
       "      <td>False</td>\n",
       "      <td>2</td>\n",
       "      <td>0.333333</td>\n",
       "      <td>0.250000</td>\n",
       "      <td>0.577350</td>\n",
       "      <td>0.166667</td>\n",
       "      <td>1.0</td>\n",
       "      <td>0.333333</td>\n",
       "      <td>12</td>\n",
       "    </tr>\n",
       "  </tbody>\n",
       "</table>\n",
       "</div>"
      ],
      "text/plain": [
       "  node1 node2  connected  cn        jc        si        sc       lhn   hp  \\\n",
       "0    n0    n1       True   1  0.058824  0.055556  0.176777  0.031250  0.5   \n",
       "1    n0    n2      False   2  0.500000  0.333333  0.707107  0.250000  1.0   \n",
       "2    n0    n3       True   1  0.090909  0.083333  0.223607  0.050000  0.5   \n",
       "3    n0    n4      False   2  0.142857  0.125000  0.377964  0.071429  1.0   \n",
       "4    n0    n5      False   2  0.333333  0.250000  0.577350  0.166667  1.0   \n",
       "\n",
       "         hd  pa  \n",
       "0  0.062500  32  \n",
       "1  0.500000   8  \n",
       "2  0.100000  20  \n",
       "3  0.142857  28  \n",
       "4  0.333333  12  "
      ]
     },
     "execution_count": 24,
     "metadata": {},
     "output_type": "execute_result"
    }
   ],
   "source": [
    "# 将结果写入数据框\n",
    "result['pa'] = result.apply(lambda x: preferential_attachment(g, x['node1'], x['node2']), axis=1)\n",
    "result.head()"
   ]
  },
  {
   "cell_type": "markdown",
   "metadata": {},
   "source": [
    "## Adamic-Adar (AA)"
   ]
  },
  {
   "cell_type": "code",
   "execution_count": 25,
   "metadata": {},
   "outputs": [
    {
     "name": "stdout",
     "output_type": "stream",
     "text": [
      "节点 n0 和节点 n1 的Adamic-Adar系数为 0.43\n",
      "节点 n0 和节点 n2 的Adamic-Adar系数为 0.79\n",
      "节点 n0 和节点 n3 的Adamic-Adar系数为 0.36\n",
      "节点 n0 和节点 n4 的Adamic-Adar系数为 0.79\n",
      "节点 n0 和节点 n5 的Adamic-Adar系数为 0.79\n"
     ]
    }
   ],
   "source": [
    "# 计算Adamic-Adar系数\n",
    "for u, v in node_pairs[:5]:\n",
    "    aa = list(nx.adamic_adar_index(g, [(u, v)]))[0][2]\n",
    "    print(f'节点 {u} 和节点 {v} 的Adamic-Adar系数为 {aa:.2f}')"
   ]
  },
  {
   "cell_type": "code",
   "execution_count": 26,
   "metadata": {},
   "outputs": [
    {
     "data": {
      "text/html": [
       "<div>\n",
       "<style scoped>\n",
       "    .dataframe tbody tr th:only-of-type {\n",
       "        vertical-align: middle;\n",
       "    }\n",
       "\n",
       "    .dataframe tbody tr th {\n",
       "        vertical-align: top;\n",
       "    }\n",
       "\n",
       "    .dataframe thead th {\n",
       "        text-align: right;\n",
       "    }\n",
       "</style>\n",
       "<table border=\"1\" class=\"dataframe\">\n",
       "  <thead>\n",
       "    <tr style=\"text-align: right;\">\n",
       "      <th></th>\n",
       "      <th>node1</th>\n",
       "      <th>node2</th>\n",
       "      <th>connected</th>\n",
       "      <th>cn</th>\n",
       "      <th>jc</th>\n",
       "      <th>si</th>\n",
       "      <th>sc</th>\n",
       "      <th>lhn</th>\n",
       "      <th>hp</th>\n",
       "      <th>hd</th>\n",
       "      <th>pa</th>\n",
       "      <th>aa</th>\n",
       "    </tr>\n",
       "  </thead>\n",
       "  <tbody>\n",
       "    <tr>\n",
       "      <th>0</th>\n",
       "      <td>n0</td>\n",
       "      <td>n1</td>\n",
       "      <td>True</td>\n",
       "      <td>1</td>\n",
       "      <td>0.058824</td>\n",
       "      <td>0.055556</td>\n",
       "      <td>0.176777</td>\n",
       "      <td>0.031250</td>\n",
       "      <td>0.5</td>\n",
       "      <td>0.062500</td>\n",
       "      <td>32</td>\n",
       "      <td>0.434294</td>\n",
       "    </tr>\n",
       "    <tr>\n",
       "      <th>1</th>\n",
       "      <td>n0</td>\n",
       "      <td>n2</td>\n",
       "      <td>False</td>\n",
       "      <td>2</td>\n",
       "      <td>0.500000</td>\n",
       "      <td>0.333333</td>\n",
       "      <td>0.707107</td>\n",
       "      <td>0.250000</td>\n",
       "      <td>1.0</td>\n",
       "      <td>0.500000</td>\n",
       "      <td>8</td>\n",
       "      <td>0.794968</td>\n",
       "    </tr>\n",
       "    <tr>\n",
       "      <th>2</th>\n",
       "      <td>n0</td>\n",
       "      <td>n3</td>\n",
       "      <td>True</td>\n",
       "      <td>1</td>\n",
       "      <td>0.090909</td>\n",
       "      <td>0.083333</td>\n",
       "      <td>0.223607</td>\n",
       "      <td>0.050000</td>\n",
       "      <td>0.5</td>\n",
       "      <td>0.100000</td>\n",
       "      <td>20</td>\n",
       "      <td>0.360674</td>\n",
       "    </tr>\n",
       "    <tr>\n",
       "      <th>3</th>\n",
       "      <td>n0</td>\n",
       "      <td>n4</td>\n",
       "      <td>False</td>\n",
       "      <td>2</td>\n",
       "      <td>0.142857</td>\n",
       "      <td>0.125000</td>\n",
       "      <td>0.377964</td>\n",
       "      <td>0.071429</td>\n",
       "      <td>1.0</td>\n",
       "      <td>0.142857</td>\n",
       "      <td>28</td>\n",
       "      <td>0.794968</td>\n",
       "    </tr>\n",
       "    <tr>\n",
       "      <th>4</th>\n",
       "      <td>n0</td>\n",
       "      <td>n5</td>\n",
       "      <td>False</td>\n",
       "      <td>2</td>\n",
       "      <td>0.333333</td>\n",
       "      <td>0.250000</td>\n",
       "      <td>0.577350</td>\n",
       "      <td>0.166667</td>\n",
       "      <td>1.0</td>\n",
       "      <td>0.333333</td>\n",
       "      <td>12</td>\n",
       "      <td>0.794968</td>\n",
       "    </tr>\n",
       "  </tbody>\n",
       "</table>\n",
       "</div>"
      ],
      "text/plain": [
       "  node1 node2  connected  cn        jc        si        sc       lhn   hp  \\\n",
       "0    n0    n1       True   1  0.058824  0.055556  0.176777  0.031250  0.5   \n",
       "1    n0    n2      False   2  0.500000  0.333333  0.707107  0.250000  1.0   \n",
       "2    n0    n3       True   1  0.090909  0.083333  0.223607  0.050000  0.5   \n",
       "3    n0    n4      False   2  0.142857  0.125000  0.377964  0.071429  1.0   \n",
       "4    n0    n5      False   2  0.333333  0.250000  0.577350  0.166667  1.0   \n",
       "\n",
       "         hd  pa        aa  \n",
       "0  0.062500  32  0.434294  \n",
       "1  0.500000   8  0.794968  \n",
       "2  0.100000  20  0.360674  \n",
       "3  0.142857  28  0.794968  \n",
       "4  0.333333  12  0.794968  "
      ]
     },
     "execution_count": 26,
     "metadata": {},
     "output_type": "execute_result"
    }
   ],
   "source": [
    "# 将结果写入数据框\n",
    "result['aa'] = result.apply(lambda x: list(nx.adamic_adar_index(g, [(x['node1'], x['node2'])]))[0][2], axis=1)\n",
    "result.head()"
   ]
  },
  {
   "cell_type": "markdown",
   "metadata": {},
   "source": [
    "## 资源分配 (Resource Allocation, RA)"
   ]
  },
  {
   "cell_type": "code",
   "execution_count": 27,
   "metadata": {},
   "outputs": [
    {
     "name": "stdout",
     "output_type": "stream",
     "text": [
      "节点 n0 和节点 n1 的Resource Allocation指标为 0.10\n",
      "节点 n0 和节点 n2 的Resource Allocation指标为 0.16\n",
      "节点 n0 和节点 n3 的Resource Allocation指标为 0.06\n",
      "节点 n0 和节点 n4 的Resource Allocation指标为 0.16\n",
      "节点 n0 和节点 n5 的Resource Allocation指标为 0.16\n"
     ]
    }
   ],
   "source": [
    "# 计算Resource Allocation指标\n",
    "for u, v in node_pairs[:5]:\n",
    "    ra = list(nx.resource_allocation_index(g, [(u, v)]))[0][2]\n",
    "    print(f'节点 {u} 和节点 {v} 的Resource Allocation指标为 {ra:.2f}')"
   ]
  },
  {
   "cell_type": "code",
   "execution_count": 28,
   "metadata": {},
   "outputs": [
    {
     "data": {
      "text/html": [
       "<div>\n",
       "<style scoped>\n",
       "    .dataframe tbody tr th:only-of-type {\n",
       "        vertical-align: middle;\n",
       "    }\n",
       "\n",
       "    .dataframe tbody tr th {\n",
       "        vertical-align: top;\n",
       "    }\n",
       "\n",
       "    .dataframe thead th {\n",
       "        text-align: right;\n",
       "    }\n",
       "</style>\n",
       "<table border=\"1\" class=\"dataframe\">\n",
       "  <thead>\n",
       "    <tr style=\"text-align: right;\">\n",
       "      <th></th>\n",
       "      <th>node1</th>\n",
       "      <th>node2</th>\n",
       "      <th>connected</th>\n",
       "      <th>cn</th>\n",
       "      <th>jc</th>\n",
       "      <th>si</th>\n",
       "      <th>sc</th>\n",
       "      <th>lhn</th>\n",
       "      <th>hp</th>\n",
       "      <th>hd</th>\n",
       "      <th>pa</th>\n",
       "      <th>aa</th>\n",
       "      <th>ra</th>\n",
       "    </tr>\n",
       "  </thead>\n",
       "  <tbody>\n",
       "    <tr>\n",
       "      <th>0</th>\n",
       "      <td>n0</td>\n",
       "      <td>n1</td>\n",
       "      <td>True</td>\n",
       "      <td>1</td>\n",
       "      <td>0.058824</td>\n",
       "      <td>0.055556</td>\n",
       "      <td>0.176777</td>\n",
       "      <td>0.031250</td>\n",
       "      <td>0.5</td>\n",
       "      <td>0.062500</td>\n",
       "      <td>32</td>\n",
       "      <td>0.434294</td>\n",
       "      <td>0.1000</td>\n",
       "    </tr>\n",
       "    <tr>\n",
       "      <th>1</th>\n",
       "      <td>n0</td>\n",
       "      <td>n2</td>\n",
       "      <td>False</td>\n",
       "      <td>2</td>\n",
       "      <td>0.500000</td>\n",
       "      <td>0.333333</td>\n",
       "      <td>0.707107</td>\n",
       "      <td>0.250000</td>\n",
       "      <td>1.0</td>\n",
       "      <td>0.500000</td>\n",
       "      <td>8</td>\n",
       "      <td>0.794968</td>\n",
       "      <td>0.1625</td>\n",
       "    </tr>\n",
       "    <tr>\n",
       "      <th>2</th>\n",
       "      <td>n0</td>\n",
       "      <td>n3</td>\n",
       "      <td>True</td>\n",
       "      <td>1</td>\n",
       "      <td>0.090909</td>\n",
       "      <td>0.083333</td>\n",
       "      <td>0.223607</td>\n",
       "      <td>0.050000</td>\n",
       "      <td>0.5</td>\n",
       "      <td>0.100000</td>\n",
       "      <td>20</td>\n",
       "      <td>0.360674</td>\n",
       "      <td>0.0625</td>\n",
       "    </tr>\n",
       "    <tr>\n",
       "      <th>3</th>\n",
       "      <td>n0</td>\n",
       "      <td>n4</td>\n",
       "      <td>False</td>\n",
       "      <td>2</td>\n",
       "      <td>0.142857</td>\n",
       "      <td>0.125000</td>\n",
       "      <td>0.377964</td>\n",
       "      <td>0.071429</td>\n",
       "      <td>1.0</td>\n",
       "      <td>0.142857</td>\n",
       "      <td>28</td>\n",
       "      <td>0.794968</td>\n",
       "      <td>0.1625</td>\n",
       "    </tr>\n",
       "    <tr>\n",
       "      <th>4</th>\n",
       "      <td>n0</td>\n",
       "      <td>n5</td>\n",
       "      <td>False</td>\n",
       "      <td>2</td>\n",
       "      <td>0.333333</td>\n",
       "      <td>0.250000</td>\n",
       "      <td>0.577350</td>\n",
       "      <td>0.166667</td>\n",
       "      <td>1.0</td>\n",
       "      <td>0.333333</td>\n",
       "      <td>12</td>\n",
       "      <td>0.794968</td>\n",
       "      <td>0.1625</td>\n",
       "    </tr>\n",
       "  </tbody>\n",
       "</table>\n",
       "</div>"
      ],
      "text/plain": [
       "  node1 node2  connected  cn        jc        si        sc       lhn   hp  \\\n",
       "0    n0    n1       True   1  0.058824  0.055556  0.176777  0.031250  0.5   \n",
       "1    n0    n2      False   2  0.500000  0.333333  0.707107  0.250000  1.0   \n",
       "2    n0    n3       True   1  0.090909  0.083333  0.223607  0.050000  0.5   \n",
       "3    n0    n4      False   2  0.142857  0.125000  0.377964  0.071429  1.0   \n",
       "4    n0    n5      False   2  0.333333  0.250000  0.577350  0.166667  1.0   \n",
       "\n",
       "         hd  pa        aa      ra  \n",
       "0  0.062500  32  0.434294  0.1000  \n",
       "1  0.500000   8  0.794968  0.1625  \n",
       "2  0.100000  20  0.360674  0.0625  \n",
       "3  0.142857  28  0.794968  0.1625  \n",
       "4  0.333333  12  0.794968  0.1625  "
      ]
     },
     "execution_count": 28,
     "metadata": {},
     "output_type": "execute_result"
    }
   ],
   "source": [
    "# 将结果写入数据框\n",
    "result['ra'] = result.apply(lambda x: list(nx.resource_allocation_index(g, [(x['node1'], x['node2'])]))[0][2], axis=1)\n",
    "result.head()"
   ]
  },
  {
   "cell_type": "markdown",
   "metadata": {},
   "source": [
    "## 局部路径 (Local Path, LP)"
   ]
  },
  {
   "cell_type": "code",
   "execution_count": 29,
   "metadata": {},
   "outputs": [
    {
     "name": "stdout",
     "output_type": "stream",
     "text": [
      "节点 n0 和节点 n1 的局部路径指标为 1.22\n",
      "节点 n0 和节点 n2 的局部路径指标为 2.06\n",
      "节点 n0 和节点 n3 的局部路径指标为 1.16\n",
      "节点 n0 和节点 n4 的局部路径指标为 2.09\n",
      "节点 n0 和节点 n5 的局部路径指标为 2.07\n"
     ]
    }
   ],
   "source": [
    "# 计算局部路径指标\n",
    "def local_path(G, u=None, v=None, alpha=0.01):\n",
    "    # 计算两个节点的局部路径指标\n",
    "    node_list = list(G.nodes)\n",
    "    A = nx.to_numpy_array(G, nodelist=node_list)\n",
    "    lp_matrix = A @ A + alpha * A @ A @ A\n",
    "    if u and v:\n",
    "        lp = lp_matrix[node_list.index(u), node_list.index(v)]\n",
    "        return lp\n",
    "    else:\n",
    "        return lp_matrix\n",
    "\n",
    "for u, v in node_pairs[:5]:\n",
    "    lp = local_path(g, u, v)\n",
    "    print(f'节点 {u} 和节点 {v} 的局部路径指标为 {lp:.2f}')"
   ]
  },
  {
   "cell_type": "code",
   "execution_count": 30,
   "metadata": {},
   "outputs": [
    {
     "data": {
      "text/html": [
       "<div>\n",
       "<style scoped>\n",
       "    .dataframe tbody tr th:only-of-type {\n",
       "        vertical-align: middle;\n",
       "    }\n",
       "\n",
       "    .dataframe tbody tr th {\n",
       "        vertical-align: top;\n",
       "    }\n",
       "\n",
       "    .dataframe thead th {\n",
       "        text-align: right;\n",
       "    }\n",
       "</style>\n",
       "<table border=\"1\" class=\"dataframe\">\n",
       "  <thead>\n",
       "    <tr style=\"text-align: right;\">\n",
       "      <th></th>\n",
       "      <th>node1</th>\n",
       "      <th>node2</th>\n",
       "      <th>connected</th>\n",
       "      <th>cn</th>\n",
       "      <th>jc</th>\n",
       "      <th>si</th>\n",
       "      <th>sc</th>\n",
       "      <th>lhn</th>\n",
       "      <th>hp</th>\n",
       "      <th>hd</th>\n",
       "      <th>pa</th>\n",
       "      <th>aa</th>\n",
       "      <th>ra</th>\n",
       "      <th>lp</th>\n",
       "    </tr>\n",
       "  </thead>\n",
       "  <tbody>\n",
       "    <tr>\n",
       "      <th>0</th>\n",
       "      <td>n0</td>\n",
       "      <td>n1</td>\n",
       "      <td>True</td>\n",
       "      <td>1</td>\n",
       "      <td>0.058824</td>\n",
       "      <td>0.055556</td>\n",
       "      <td>0.176777</td>\n",
       "      <td>0.031250</td>\n",
       "      <td>0.5</td>\n",
       "      <td>0.062500</td>\n",
       "      <td>32</td>\n",
       "      <td>0.434294</td>\n",
       "      <td>0.1000</td>\n",
       "      <td>1.22</td>\n",
       "    </tr>\n",
       "    <tr>\n",
       "      <th>1</th>\n",
       "      <td>n0</td>\n",
       "      <td>n2</td>\n",
       "      <td>False</td>\n",
       "      <td>2</td>\n",
       "      <td>0.500000</td>\n",
       "      <td>0.333333</td>\n",
       "      <td>0.707107</td>\n",
       "      <td>0.250000</td>\n",
       "      <td>1.0</td>\n",
       "      <td>0.500000</td>\n",
       "      <td>8</td>\n",
       "      <td>0.794968</td>\n",
       "      <td>0.1625</td>\n",
       "      <td>2.06</td>\n",
       "    </tr>\n",
       "    <tr>\n",
       "      <th>2</th>\n",
       "      <td>n0</td>\n",
       "      <td>n3</td>\n",
       "      <td>True</td>\n",
       "      <td>1</td>\n",
       "      <td>0.090909</td>\n",
       "      <td>0.083333</td>\n",
       "      <td>0.223607</td>\n",
       "      <td>0.050000</td>\n",
       "      <td>0.5</td>\n",
       "      <td>0.100000</td>\n",
       "      <td>20</td>\n",
       "      <td>0.360674</td>\n",
       "      <td>0.0625</td>\n",
       "      <td>1.16</td>\n",
       "    </tr>\n",
       "    <tr>\n",
       "      <th>3</th>\n",
       "      <td>n0</td>\n",
       "      <td>n4</td>\n",
       "      <td>False</td>\n",
       "      <td>2</td>\n",
       "      <td>0.142857</td>\n",
       "      <td>0.125000</td>\n",
       "      <td>0.377964</td>\n",
       "      <td>0.071429</td>\n",
       "      <td>1.0</td>\n",
       "      <td>0.142857</td>\n",
       "      <td>28</td>\n",
       "      <td>0.794968</td>\n",
       "      <td>0.1625</td>\n",
       "      <td>2.09</td>\n",
       "    </tr>\n",
       "    <tr>\n",
       "      <th>4</th>\n",
       "      <td>n0</td>\n",
       "      <td>n5</td>\n",
       "      <td>False</td>\n",
       "      <td>2</td>\n",
       "      <td>0.333333</td>\n",
       "      <td>0.250000</td>\n",
       "      <td>0.577350</td>\n",
       "      <td>0.166667</td>\n",
       "      <td>1.0</td>\n",
       "      <td>0.333333</td>\n",
       "      <td>12</td>\n",
       "      <td>0.794968</td>\n",
       "      <td>0.1625</td>\n",
       "      <td>2.07</td>\n",
       "    </tr>\n",
       "  </tbody>\n",
       "</table>\n",
       "</div>"
      ],
      "text/plain": [
       "  node1 node2  connected  cn        jc        si        sc       lhn   hp  \\\n",
       "0    n0    n1       True   1  0.058824  0.055556  0.176777  0.031250  0.5   \n",
       "1    n0    n2      False   2  0.500000  0.333333  0.707107  0.250000  1.0   \n",
       "2    n0    n3       True   1  0.090909  0.083333  0.223607  0.050000  0.5   \n",
       "3    n0    n4      False   2  0.142857  0.125000  0.377964  0.071429  1.0   \n",
       "4    n0    n5      False   2  0.333333  0.250000  0.577350  0.166667  1.0   \n",
       "\n",
       "         hd  pa        aa      ra    lp  \n",
       "0  0.062500  32  0.434294  0.1000  1.22  \n",
       "1  0.500000   8  0.794968  0.1625  2.06  \n",
       "2  0.100000  20  0.360674  0.0625  1.16  \n",
       "3  0.142857  28  0.794968  0.1625  2.09  \n",
       "4  0.333333  12  0.794968  0.1625  2.07  "
      ]
     },
     "execution_count": 30,
     "metadata": {},
     "output_type": "execute_result"
    }
   ],
   "source": [
    "# 将结果写入数据框\n",
    "lp_matrix = local_path(g)\n",
    "result['lp'] = result.apply(lambda x: lp_matrix[list(g.nodes).index(x['node1']), list(g.nodes).index(x['node2'])], axis=1)\n",
    "result.head()"
   ]
  },
  {
   "cell_type": "markdown",
   "metadata": {},
   "source": [
    "## 结果比较"
   ]
  },
  {
   "cell_type": "code",
   "execution_count": 31,
   "metadata": {},
   "outputs": [
    {
     "data": {
      "image/png": "[encoded data removed]",
      "text/plain": [
       "<Figure size 1000x1000 with 4 Axes>"
      ]
     },
     "metadata": {},
     "output_type": "display_data"
    }
   ],
   "source": [
    "methods = {\n",
    "    'sc': 'Salton余弦相似性',\n",
    "    'aa': 'Adamic-Adar系数',\n",
    "    'pa': 'Preferential Attachment指标',\n",
    "    'lp': '局部路径指标'\n",
    "}\n",
    "# 设置画布\n",
    "fig, axs = plt.subplots(2, 2, figsize=(10, 10))\n",
    "# 绘制箱线图\n",
    "for i, (method, name) in enumerate(methods.items()):\n",
    "    ax = axs[i // 2, i % 2]\n",
    "    sns.boxplot(x='connected', y=method, data=result, width=width, ax=ax)\n",
    "    ax.set_xticks([False, True], ['不相连', '相连'])\n",
    "    ax.set_xlabel(None)\n",
    "    ax.set_ylabel(method.upper())\n",
    "    ax.set_title(name)\n",
    "fig.suptitle('不同指标与节点是否相连的关系')\n",
    "plt.tight_layout()\n",
    "plt.show()"
   ]
  },
  {
   "cell_type": "markdown",
   "metadata": {},
   "source": [
    "## 预测效果评价"
   ]
  },
  {
   "cell_type": "code",
   "execution_count": 32,
   "metadata": {},
   "outputs": [
    {
     "data": {
      "image/png": "[encoded data removed]",
      "text/plain": [
       "<Figure size 1000x500 with 1 Axes>"
      ]
     },
     "metadata": {},
     "output_type": "display_data"
    }
   ],
   "source": [
    "# 设置画布\n",
    "plt.figure(figsize=(10, 5))\n",
    "# 计算roc曲线\n",
    "fpr, tpr, _ = metrics.roc_curve(result['connected'], result['cn'])\n",
    "auc = metrics.auc(fpr, tpr)\n",
    "# 绘制roc曲线\n",
    "plt.plot(fpr, tpr)\n",
    "# 绘制对角线 其表示随机分类器的性能\n",
    "plt.plot([0, 1], [0, 1], color='gray', linestyle='--')\n",
    "plt.text(0.6, 0.5, f'AUC: {auc:.3f}', fontsize=12)\n",
    "plt.xlabel('Sensitivity')\n",
    "plt.ylabel('Specificity')\n",
    "plt.title('ROC曲线')\n",
    "plt.show()"
   ]
  },
  {
   "cell_type": "code",
   "execution_count": 33,
   "metadata": {},
   "outputs": [
    {
     "data": {
      "image/png": "[encoded data removed]",
      "text/plain": [
       "<Figure size 1500x1000 with 5 Axes>"
      ]
     },
     "metadata": {},
     "output_type": "display_data"
    }
   ],
   "source": [
    "methods = {\n",
    "    'cn': '共同邻居数量',\n",
    "    'sc': 'Salton余弦相似性',\n",
    "    'aa': 'Adamic-Adar系数',\n",
    "    'pa': 'Preferential Attachment指标',\n",
    "    'lp': '局部路径指标'\n",
    "}\n",
    "\n",
    "# 设置画布\n",
    "fig, axs = plt.subplots(2, 3, figsize=(15, 10))\n",
    "# 绘制roc曲线\n",
    "for i, (method, name) in enumerate(methods.items()):\n",
    "    ax = axs[i // 3, i % 3]\n",
    "    fpr, tpr, _ = metrics.roc_curve(result['connected'], result[method])\n",
    "    auc = metrics.auc(fpr, tpr)\n",
    "    ax.plot(fpr, tpr)\n",
    "    ax.plot([0, 1], [0, 1], color='gray', linestyle='--')\n",
    "    ax.text(0.6, 0.5, f'AUC: {auc:.3f}', fontsize=12)\n",
    "    ax.set_xlabel('Sensitivity')\n",
    "    ax.set_ylabel('Specificity')\n",
    "    ax.set_title(name)\n",
    "fig.delaxes(axs[1, 2]) # 删除最后一个子图\n",
    "fig.suptitle('ROC曲线') # 设置总标题\n",
    "plt.tight_layout()\n",
    "plt.show()"
   ]
  },
  {
   "cell_type": "code",
   "execution_count": null,
   "metadata": {},
   "outputs": [],
   "source": []
  }
 ],
 "metadata": {
  "kernelspec": {
   "display_name": "base",
   "language": "python",
   "name": "python3"
  },
  "language_info": {
   "codemirror_mode": {
    "name": "ipython",
    "version": 3
   },
   "file_extension": ".py",
   "mimetype": "text/x-python",
   "name": "python",
   "nbconvert_exporter": "python",
   "pygments_lexer": "ipython3",
   "version": "3.11.9"
  }
 },
 "nbformat": 4,
 "nbformat_minor": 2
}
